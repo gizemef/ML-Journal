{
 "cells": [
  {
   "cell_type": "markdown",
   "metadata": {},
   "source": [
    "# Data Preparation and Sampling\n",
    "This notebook belongs to [this](https://medium.com/@timoboehm/movie-posters-81af5707e69a) blog post. Go there for details and background."
   ]
  },
  {
   "cell_type": "code",
   "execution_count": 1,
   "metadata": {
    "collapsed": true
   },
   "outputs": [],
   "source": [
    "import re\n",
    "import numpy as np\n",
    "import pandas as pd"
   ]
  },
  {
   "cell_type": "code",
   "execution_count": 2,
   "metadata": {
    "collapsed": true
   },
   "outputs": [],
   "source": [
    "def read_and_clean_data(path):\n",
    "    df = pd.read_csv(path, encoding=\"ISO-8859-1\", usecols=[\"imdbId\", \"Title\", \"Genre\", \"Poster\"])\n",
    "    df.set_index([\"imdbId\"], inplace=True)\n",
    "    print(f\"Shape of the original dataset: {df.shape}\")\n",
    "    df.dropna(inplace=True)\n",
    "    print(f\"Shape after dropping rows with missing values: {df.shape}\")\n",
    "    df.drop_duplicates(subset=\"Poster\", keep=False, inplace=True)\n",
    "    print(f\"Shape after dropping rows with potentially misleading poster link: {df.shape}\\n\")\n",
    "    return df"
   ]
  },
  {
   "cell_type": "code",
   "execution_count": 3,
   "metadata": {
    "collapsed": true
   },
   "outputs": [],
   "source": [
    "def add_year_variable(df):\n",
    "    re_year = re.compile(\"\\((\\d{4})\\)\")\n",
    "    df[\"year\"] = df.Title.map(lambda x: int(re_year.findall(x)[0]) if re_year.findall(x) else None)\n",
    "    print(f\"There are movies between {int(np.min(df.year))} and {int(np.max(df.year))} available in the dataset.\\n\")\n",
    "    return df"
   ]
  },
  {
   "cell_type": "code",
   "execution_count": 4,
   "metadata": {
    "collapsed": true
   },
   "outputs": [],
   "source": [
    "def create_boolean_genres(df):\n",
    "    df[\"Genre\"] = df.Genre.map(lambda x: x.split(\"|\"))\n",
    "    all_genres = set([item for l in df.Genre for item in l])\n",
    "    print(f\"There are {len(all_genres)} genres in the dataset: {all_genres}\\n\")\n",
    "    for genre in all_genres:\n",
    "        new_var = \"is_\" + re.sub(r'\\W+', '', genre.lower())\n",
    "        df[new_var] = df.Genre.map(lambda x: genre in x)\n",
    "    df.drop([\"Genre\"], axis=1, inplace=True)\n",
    "    return df"
   ]
  },
  {
   "cell_type": "code",
   "execution_count": 5,
   "metadata": {
    "collapsed": true
   },
   "outputs": [],
   "source": [
    "def extract_genre_data(df, genre=\"Action\"):\n",
    "    filter_var = \"is_\" + re.sub(r'\\W+', '', genre.lower())\n",
    "    df_genre = df.copy().loc[df[filter_var]]\n",
    "    print(f\"{genre} movies in the dataset: {df_genre.shape[0]}\\n\")\n",
    "    return df_genre"
   ]
  },
  {
   "cell_type": "code",
   "execution_count": 6,
   "metadata": {
    "collapsed": true
   },
   "outputs": [],
   "source": [
    "def select_years(df, min_year=1950, max_year=2000, add_decades=True):\n",
    "    df_range = df.copy().loc[(df.year >= min_year) & (df.year < max_year)]\n",
    "    print(f\"Movies left between {min_year} and {max_year}: {df_range.shape[0]}\")\n",
    "    if add_decades:\n",
    "        df_range[\"decade\"] = df_range.year.apply(lambda x: str(int(x))[2] +\"0s\")\n",
    "        print(f\"Movies per decade in the dataset:\\n{df_range.decade.value_counts()}\\n\")\n",
    "    return df_range"
   ]
  },
  {
   "cell_type": "code",
   "execution_count": 7,
   "metadata": {
    "collapsed": true
   },
   "outputs": [],
   "source": [
    "def sample_same_number_per_decade(df, use_test_sample=False):\n",
    "    min_number = 40 if use_test_sample else np.min(df.decade.value_counts())\n",
    "    df_sample = df.groupby(\"decade\").apply(lambda x: x.sample(min_number))\n",
    "    print(f\"Sample includes {min_number} movies per decade\")\n",
    "    return df_sample"
   ]
  },
  {
   "cell_type": "code",
   "execution_count": 8,
   "metadata": {},
   "outputs": [
    {
     "name": "stdout",
     "output_type": "stream",
     "text": [
      "Shape of the original dataset: (40108, 3)\n",
      "Shape after dropping rows with missing values: (39263, 3)\n",
      "Shape after dropping rows with potentially misleading poster link: (37850, 3)\n",
      "\n",
      "There are movies between 1874 and 2018 available in the dataset.\n",
      "\n",
      "There are 28 genres in the dataset: {'Sport', 'Comedy', 'Family', 'Music', 'Crime', 'Adventure', 'Biography', 'News', 'Reality-TV', 'Musical', 'Film-Noir', 'Mystery', 'Western', 'Talk-Show', 'History', 'Animation', 'Fantasy', 'Documentary', 'Adult', 'Short', 'War', 'Thriller', 'Game-Show', 'Romance', 'Horror', 'Action', 'Sci-Fi', 'Drama'}\n",
      "\n",
      "Action movies in the dataset: 5133\n",
      "\n",
      "Movies left between 1970 and 2018: 4614\n",
      "Movies per decade in the dataset:\n",
      "10s    1381\n",
      "00s    1327\n",
      "90s     855\n",
      "80s     582\n",
      "70s     469\n",
      "Name: decade, dtype: int64\n",
      "\n",
      "Sample includes 469 movies per decade\n"
     ]
    }
   ],
   "source": [
    "movie_data = read_and_clean_data(path=\"data/movie_dataset.csv\")\n",
    "movie_data = add_year_variable(movie_data)\n",
    "movie_data = create_boolean_genres(movie_data)\n",
    "action_movies = extract_genre_data(movie_data, \"Action\")\n",
    "action_movies = select_years(action_movies, 1970, 2018)\n",
    "action_sample = sample_same_number_per_decade(action_movies, use_test_sample=False)"
   ]
  },
  {
   "cell_type": "markdown",
   "metadata": {},
   "source": [
    "# Download Posters in correct File Structure"
   ]
  },
  {
   "cell_type": "code",
   "execution_count": 31,
   "metadata": {
    "collapsed": true
   },
   "outputs": [],
   "source": [
    "import os\n",
    "from sklearn.model_selection import train_test_split\n",
    "\n",
    "import urllib.request\n",
    "from urllib.error import HTTPError\n",
    "\n",
    "import PIL"
   ]
  },
  {
   "cell_type": "code",
   "execution_count": 32,
   "metadata": {
    "collapsed": true
   },
   "outputs": [],
   "source": [
    "def create_train_and_test_dfs(df, prop_test=.2):\n",
    "    train, test = train_test_split(df, test_size=prop_test, stratify=df.decade)\n",
    "    print(f\"Number of movies in training data: {train.shape[0]}\")\n",
    "    print(f\"Number of movies in testing data:  {test.shape[0]}\\n\")\n",
    "    return {\"train\": train, \"test\": test}"
   ]
  },
  {
   "cell_type": "code",
   "execution_count": 33,
   "metadata": {
    "collapsed": true
   },
   "outputs": [],
   "source": [
    "def create_folder_structure(image_folder=\"movie_posters\", splits=[\"train\", \"test\"], classes=None):\n",
    "    for s in splits:\n",
    "        for c in classes:\n",
    "            folder_name = \"\\\\\".join([image_folder, s, c])\n",
    "            try:\n",
    "                os.makedirs(folder_name)\n",
    "            except FileExistsError:\n",
    "                print(f\"{folder_name} already exists.\")\n",
    "        print(\"\\n\")"
   ]
  },
  {
   "cell_type": "code",
   "execution_count": 34,
   "metadata": {
    "collapsed": true
   },
   "outputs": [],
   "source": [
    "def download_posters(dfs, image_folder=\"movie_posters\"):\n",
    "    for k, df in dfs.items():\n",
    "        print(f\"Starting with downloading files for {k}...\\n\")\n",
    "        already_downloaded = 0\n",
    "        http_errors = []\n",
    "        for index, movie in df.iterrows():\n",
    "            movie_id = str(index[1])\n",
    "            movie_decade = index[0]\n",
    "            file_name = movie_id + \".jpg\"\n",
    "            file_path = \"\\\\\".join([image_folder, k, movie_decade, file_name])\n",
    "            if os.path.isfile(file_path):\n",
    "                already_downloaded += 1\n",
    "            else:\n",
    "                try:\n",
    "                    urllib.request.urlretrieve(movie.Poster, file_path)       \n",
    "                except HTTPError:\n",
    "                    http_errors.append(movie_id)\n",
    "        print(f\"{len(http_errors)} posters had an HTTPError.\")\n",
    "        print(f\"{already_downloaded} posters were downloaded before.\\n\")\n",
    "        count = 0\n",
    "        for root, dirs, files in os.walk(\"\\\\\".join([image_folder, k])):\n",
    "            if len(dirs) == 0:\n",
    "                count += len(files)\n",
    "                print(f\"Number of pictures in {root}:\\t{len(files)}\")\n",
    "        print(f\"\\nTotal number of pictures available for {k}: {count}\\n\")"
   ]
  },
  {
   "cell_type": "code",
   "execution_count": 35,
   "metadata": {
    "collapsed": true
   },
   "outputs": [],
   "source": [
    "def delete_black_and_white_posters(image_folder=None):\n",
    "    print(f\"\\nChecking for black and white pictures in {image_folder}...\")\n",
    "    count = 0\n",
    "    for root, dirs, files in os.walk(image_folder):\n",
    "        if len(files) > 0:\n",
    "            for f in files:\n",
    "                file_path = \"\\\\\".join([root, f])\n",
    "                if np.asarray(PIL.Image.open(file_path)).shape != (268, 182, 3):\n",
    "                    os.remove(file_path)\n",
    "                    count += 1\n",
    "    print(f\"Files without RGB and therefore deleted: {count}\")"
   ]
  },
  {
   "cell_type": "code",
   "execution_count": 36,
   "metadata": {},
   "outputs": [
    {
     "name": "stdout",
     "output_type": "stream",
     "text": [
      "Number of movies in training data: 1876\n",
      "Number of movies in testing data:  469\n",
      "\n",
      "movie_posters\\train\\10s already exists.\n",
      "movie_posters\\train\\80s already exists.\n",
      "movie_posters\\train\\90s already exists.\n",
      "movie_posters\\train\\70s already exists.\n",
      "movie_posters\\train\\00s already exists.\n",
      "\n",
      "\n",
      "movie_posters\\test\\10s already exists.\n",
      "movie_posters\\test\\80s already exists.\n",
      "movie_posters\\test\\90s already exists.\n",
      "movie_posters\\test\\70s already exists.\n",
      "movie_posters\\test\\00s already exists.\n",
      "\n",
      "\n",
      "Starting with downloading files for train...\n",
      "\n",
      "52 posters had an HTTPError.\n",
      "1796 posters were downloaded before.\n",
      "\n",
      "Number of pictures in movie_posters\\train\\00s:\t458\n",
      "Number of pictures in movie_posters\\train\\10s:\t459\n",
      "Number of pictures in movie_posters\\train\\70s:\t451\n",
      "Number of pictures in movie_posters\\train\\80s:\t450\n",
      "Number of pictures in movie_posters\\train\\90s:\t450\n",
      "\n",
      "Total number of pictures available for train: 2268\n",
      "\n",
      "Starting with downloading files for test...\n",
      "\n",
      "18 posters had an HTTPError.\n",
      "168 posters were downloaded before.\n",
      "\n",
      "Number of pictures in movie_posters\\test\\00s:\t225\n",
      "Number of pictures in movie_posters\\test\\10s:\t225\n",
      "Number of pictures in movie_posters\\test\\70s:\t218\n",
      "Number of pictures in movie_posters\\test\\80s:\t222\n",
      "Number of pictures in movie_posters\\test\\90s:\t214\n",
      "\n",
      "Total number of pictures available for test: 1104\n",
      "\n",
      "\n",
      "Checking for black and white pictures in movie_posters...\n",
      "Files without RGB and therefore deleted: 3\n"
     ]
    }
   ],
   "source": [
    "image_folder = \"movie_posters\"\n",
    "dfs = create_train_and_test_dfs(action_sample)\n",
    "create_folder_structure(image_folder, dfs.keys(), set(action_sample.decade))\n",
    "download_posters(dfs)\n",
    "delete_black_and_white_posters(image_folder)"
   ]
  }
 ],
 "metadata": {
  "kernelspec": {
   "display_name": "Python 3",
   "language": "python",
   "name": "python3"
  },
  "language_info": {
   "codemirror_mode": {
    "name": "ipython",
    "version": 3
   },
   "file_extension": ".py",
   "mimetype": "text/x-python",
   "name": "python",
   "nbconvert_exporter": "python",
   "pygments_lexer": "ipython3",
   "version": "3.6.1"
  }
 },
 "nbformat": 4,
 "nbformat_minor": 1
}
